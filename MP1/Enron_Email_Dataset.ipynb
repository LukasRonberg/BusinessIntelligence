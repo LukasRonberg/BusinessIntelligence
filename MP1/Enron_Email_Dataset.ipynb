{
 "cells": [
  {
   "cell_type": "markdown",
   "id": "8bbf0835-da1f-47b9-9404-f814643ec392",
   "metadata": {},
   "source": [
    "# 2.Ustruktureret Datasæt (Tekstdokumenter_Emails)"
   ]
  },
  {
   "cell_type": "code",
   "execution_count": 75,
   "id": "5f2cdfd1-770c-4463-91c4-e869b3ce3293",
   "metadata": {},
   "outputs": [],
   "source": [
    "# Bruges til at læse filer fra mapper\n",
    "import os  \n",
    "# Pandas til at lave DataFrame og analysere data\n",
    "import pandas as pd  \n",
    "# Til simple grafer\n",
    "import matplotlib.pyplot as plt "
   ]
  },
  {
   "cell_type": "code",
   "execution_count": 77,
   "id": "03727d6c-facc-42c0-a9f5-b543bd6c778a",
   "metadata": {},
   "outputs": [],
   "source": [
    "def load_emails_to_dataframe(folder_path, max_files=100):\n",
    "    emails = []  # Her gemmer vi vores data som en liste af dictionaries\n",
    "    for i, filename in enumerate(os.listdir(folder_path)):\n",
    "        #if filename.endswith(\".txt\") and i < max_files:\n",
    "        if i < max_files and os.path.isfile(os.path.join(folder_path, filename)):\n",
    "            with open(os.path.join(folder_path, filename), 'r', encoding='latin-1') as file:\n",
    "                raw = file.read()  # Læs hele filens indhold\n",
    "                lines = raw.split(\"\\n\")  # Del indholdet op linje for linje\n",
    "\n",
    "                # Opret en email-data struktur\n",
    "                data = {\"from\": \"\", \"to\": \"\", \"subject\": \"\", \"body\": \"\"}\n",
    "                body_lines = []\n",
    "                body_started = False\n",
    "\n",
    "                # Gennemgå hver linje og find metadata + body\n",
    "                for line in lines:\n",
    "                    if line.lower().startswith(\"from:\"):\n",
    "                        data[\"from\"] = line[5:].strip()\n",
    "                    elif line.lower().startswith(\"to:\"):\n",
    "                        data[\"to\"] = line[3:].strip()\n",
    "                    elif line.lower().startswith(\"subject:\"):\n",
    "                        data[\"subject\"] = line[8:].strip()\n",
    "                    elif line.strip() == \"\":\n",
    "                        body_started = True  # Når vi rammer en tom linje → resten er \"body\"\n",
    "                    elif body_started:\n",
    "                        body_lines.append(line.strip())  # Tilføj linje til body\n",
    "\n",
    "                data[\"body\"] = \" \".join(body_lines)  # Saml body til én tekststreng\n",
    "                emails.append(data)  # Gem hele emailen i listen\n",
    "\n",
    "    return pd.DataFrame(emails)  # Konverter listen til en DataFrame\n"
   ]
  },
  {
   "cell_type": "code",
   "execution_count": 79,
   "id": "ceb3f718-de62-4403-b4e6-1b05d6f81dd2",
   "metadata": {},
   "outputs": [
    {
     "data": {
      "text/html": [
       "<div>\n",
       "<style scoped>\n",
       "    .dataframe tbody tr th:only-of-type {\n",
       "        vertical-align: middle;\n",
       "    }\n",
       "\n",
       "    .dataframe tbody tr th {\n",
       "        vertical-align: top;\n",
       "    }\n",
       "\n",
       "    .dataframe thead th {\n",
       "        text-align: right;\n",
       "    }\n",
       "</style>\n",
       "<table border=\"1\" class=\"dataframe\">\n",
       "  <thead>\n",
       "    <tr style=\"text-align: right;\">\n",
       "      <th></th>\n",
       "      <th>from</th>\n",
       "      <th>to</th>\n",
       "      <th>subject</th>\n",
       "      <th>body</th>\n",
       "    </tr>\n",
       "  </thead>\n",
       "  <tbody>\n",
       "    <tr>\n",
       "      <th>0</th>\n",
       "      <td>ei_editor@ftenergy.com</td>\n",
       "      <td>einsighthtml@listserv.ftenergy.com</td>\n",
       "      <td>TVA takes lead in sales, generation by utilities</td>\n",
       "      <td>=20 [IMAGE]=09 [IMAGE] [IMAGE]  [IMAGE]  [IMAG...</td>\n",
       "    </tr>\n",
       "    <tr>\n",
       "      <th>1</th>\n",
       "      <td>arsystem@mailman.enron.com</td>\n",
       "      <td>k..allen@enron.com</td>\n",
       "      <td>Your Approval is Overdue: Access Request for m...</td>\n",
       "      <td>This request has been pending your approval fo...</td>\n",
       "    </tr>\n",
       "    <tr>\n",
       "      <th>2</th>\n",
       "      <td>Jones, Brad</td>\n",
       "      <td>'daniel.mcdonagh@chase.com'; Allen, Phillip K....</td>\n",
       "      <td>Gas P&amp;L by day</td>\n",
       "      <td>Phillip My interpretation of this is that we m...</td>\n",
       "    </tr>\n",
       "    <tr>\n",
       "      <th>3</th>\n",
       "      <td>unsubscribe-i@networkpromotion.com</td>\n",
       "      <td>pallen@enron.com</td>\n",
       "      <td>Too many to chose from - CD player, 2 way Radi...</td>\n",
       "      <td>[IMAGE] Get your FREE* Reward NOW! =09=09[IMAG...</td>\n",
       "    </tr>\n",
       "    <tr>\n",
       "      <th>4</th>\n",
       "      <td>louise.kitchen@enron.com</td>\n",
       "      <td>wes.colwell@enron.com, georgeanne.hodges@enron...</td>\n",
       "      <td>NETCO</td>\n",
       "      <td>The New Year has arrived and we really to fina...</td>\n",
       "    </tr>\n",
       "  </tbody>\n",
       "</table>\n",
       "</div>"
      ],
      "text/plain": [
       "                                 from  \\\n",
       "0              ei_editor@ftenergy.com   \n",
       "1          arsystem@mailman.enron.com   \n",
       "2                         Jones, Brad   \n",
       "3  unsubscribe-i@networkpromotion.com   \n",
       "4            louise.kitchen@enron.com   \n",
       "\n",
       "                                                  to  \\\n",
       "0                 einsighthtml@listserv.ftenergy.com   \n",
       "1                                 k..allen@enron.com   \n",
       "2  'daniel.mcdonagh@chase.com'; Allen, Phillip K....   \n",
       "3                                   pallen@enron.com   \n",
       "4  wes.colwell@enron.com, georgeanne.hodges@enron...   \n",
       "\n",
       "                                             subject  \\\n",
       "0   TVA takes lead in sales, generation by utilities   \n",
       "1  Your Approval is Overdue: Access Request for m...   \n",
       "2                                     Gas P&L by day   \n",
       "3  Too many to chose from - CD player, 2 way Radi...   \n",
       "4                                              NETCO   \n",
       "\n",
       "                                                body  \n",
       "0  =20 [IMAGE]=09 [IMAGE] [IMAGE]  [IMAGE]  [IMAG...  \n",
       "1  This request has been pending your approval fo...  \n",
       "2  Phillip My interpretation of this is that we m...  \n",
       "3  [IMAGE] Get your FREE* Reward NOW! =09=09[IMAG...  \n",
       "4  The New Year has arrived and we really to fina...  "
      ]
     },
     "execution_count": 79,
     "metadata": {},
     "output_type": "execute_result"
    }
   ],
   "source": [
    "# Hent emails\n",
    "df = load_emails_to_dataframe(\"emails/\", max_files=100)\n",
    "# Vis de første 5\n",
    "df.head()"
   ]
  },
  {
   "cell_type": "code",
   "execution_count": null,
   "id": "7ffba3a9-0adc-469e-8dfd-97012d200458",
   "metadata": {},
   "outputs": [],
   "source": [
    "# Her ser vi antal rækker og kolonner\n",
    "df.shape"
   ]
  },
  {
   "cell_type": "code",
   "execution_count": null,
   "id": "e6e9211e-1b1f-42d9-afe9-066539b7b705",
   "metadata": {},
   "outputs": [],
   "source": [
    "# Her får vi et overblik\n",
    "df.info"
   ]
  },
  {
   "cell_type": "code",
   "execution_count": null,
   "id": "9cf728ca-a369-4bce-9dfc-b663cfe576c0",
   "metadata": {},
   "outputs": [],
   "source": [
    "# Her kigger vi på Attributterne/Kolonnerne for kolonnerne\n",
    "df.columns"
   ]
  },
  {
   "cell_type": "code",
   "execution_count": null,
   "id": "732f2bc0-6800-42e0-afea-6b779cbed118",
   "metadata": {},
   "outputs": [],
   "source": [
    "# Her kigger vi på Attributterne/Kolonnerne\n",
    "list(df)"
   ]
  },
  {
   "cell_type": "code",
   "execution_count": null,
   "id": "99fffeec-2efc-4316-8dfb-ad99b0f8cbbb",
   "metadata": {},
   "outputs": [],
   "source": [
    "# Vi tjekker for manglende værdier i datasættet\n",
    "df.isna().sum()"
   ]
  },
  {
   "cell_type": "code",
   "execution_count": null,
   "id": "3db051e9-96fd-419f-ab87-1638ad58b05b",
   "metadata": {},
   "outputs": [],
   "source": [
    "# Opretter en ny kolonne 'body_lower' med emailens tekst (body) i små bogstaver,\n",
    "# så det bliver nemmere at søge efter ord uanset store/små bogstaver\n",
    "df[\"body_lower\"] = df[\"body\"].str.lower()"
   ]
  },
  {
   "cell_type": "code",
   "execution_count": null,
   "id": "dcb3d41c-e631-44d6-956a-129ccd508afc",
   "metadata": {},
   "outputs": [],
   "source": [
    "keywords = [\"meeting\", \"project\", \"money\", \"deadline\"]\n",
    "\n",
    "# Tæl hvor ofte hvert ord nævnes i body\n",
    "counts = [df[\"body_lower\"].str.count(word).sum() for word in keywords]\n",
    "\n",
    "# Lav et simpelt søjlediagram\n",
    "plt.bar(keywords, counts)\n",
    "plt.title(\"Hyppighed af nøgleord i emails\")\n",
    "plt.ylabel(\"Forekomster\")\n",
    "plt.xlabel(\"Ord\")\n",
    "plt.show()\n"
   ]
  },
  {
   "cell_type": "code",
   "execution_count": null,
   "id": "9c67eba5-eded-4f81-ad34-31fcbf4a9263",
   "metadata": {},
   "outputs": [],
   "source": [
    "# Tæl hvor mange mails som er modtager fra afsendere \n",
    "top_senders = df[\"from\"].value_counts().head(10)\n",
    "\n",
    "top_senders.plot(kind=\"bar\", color=\"orange\")\n",
    "plt.title(\"Top 10 afsendere af emails\")\n",
    "plt.xlabel(\"Afsender\")\n",
    "plt.ylabel(\"Antal emails sendt\")\n",
    "plt.xticks(rotation=45)\n",
    "plt.tight_layout()\n",
    "plt.show()\n"
   ]
  },
  {
   "cell_type": "code",
   "execution_count": null,
   "id": "619a3060-8562-4059-8936-77cb269f7095",
   "metadata": {},
   "outputs": [],
   "source": [
    "# Tæl top 5 modtagere\n",
    "top_5 = df[\"to\"].value_counts().head(5)\n",
    "\n",
    "# Lav et cirkeldiagram (pie chart)\n",
    "top_5.plot(kind=\"pie\", autopct=\"%1.1f%%\")\n",
    "\n",
    "# Tilføj titel og fjern y-aksens tekst\n",
    "plt.title(\"Fordeling af emails til top 5 modtagere\")\n",
    "plt.ylabel(\"\")  # Fjerner label på y-aksen\n",
    "plt.show()"
   ]
  },
  {
   "cell_type": "code",
   "execution_count": null,
   "id": "2f643625-a466-4a08-be92-f38d7eae31b4",
   "metadata": {},
   "outputs": [],
   "source": [
    "# Lav ny kolonne med længde af 'body' teksten\n",
    "df[\"body_length\"] = df[\"body\"].str.len()\n",
    "\n",
    "# Lav histogram over body-længder\n",
    "plt.hist(df[\"body_length\"], bins=20, edgecolor='black')\n",
    "\n",
    "# Tilføj titel og akse-labels\n",
    "plt.title(\"Fordeling af email-længder\")\n",
    "plt.xlabel(\"Antal tegn i email body\")\n",
    "plt.ylabel(\"Antal emails\")\n",
    "\n",
    "# Vis diagrammet\n",
    "plt.tight_layout()\n",
    "plt.show()"
   ]
  },
  {
   "cell_type": "code",
   "execution_count": null,
   "id": "c1a36a8b-b34e-4089-b605-187bd605a7f8",
   "metadata": {},
   "outputs": [],
   "source": []
  }
 ],
 "metadata": {
  "kernelspec": {
   "display_name": "Python [conda env:base] *",
   "language": "python",
   "name": "conda-base-py"
  },
  "language_info": {
   "codemirror_mode": {
    "name": "ipython",
    "version": 3
   },
   "file_extension": ".py",
   "mimetype": "text/x-python",
   "name": "python",
   "nbconvert_exporter": "python",
   "pygments_lexer": "ipython3",
   "version": "3.12.7"
  }
 },
 "nbformat": 4,
 "nbformat_minor": 5
}
