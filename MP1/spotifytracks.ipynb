{
 "cells": [
  {
   "cell_type": "markdown",
   "id": "aa12a060",
   "metadata": {},
   "source": [
    "# Spotify Tracks Dataset"
   ]
  },
  {
   "cell_type": "code",
   "execution_count": 54,
   "id": "b5023b6e",
   "metadata": {},
   "outputs": [],
   "source": [
    "import pandas as pd\n",
    "\n",
    "import numpy as np\n",
    "\n",
    "import matplotlib.pyplot as plt\n",
    "\n",
    "import seaborn as sbn\n",
    "\n",
    "import kagglehub\n",
    "from kagglehub import KaggleDatasetAdapter"
   ]
  },
  {
   "cell_type": "code",
   "execution_count": null,
   "id": "8533da48",
   "metadata": {},
   "outputs": [
    {
     "name": "stdout",
     "output_type": "stream",
     "text": [
      "Path to dataset files: C:\\Users\\Lukas\\.cache\\kagglehub\\datasets\\yamaerenay\\spotify-dataset-1921-2020-160k-tracks\\versions\\1\n"
     ]
    }
   ],
   "source": [
    "\n",
    "# Download latest version from Kaggle and show the path\n",
    "# Optional, can be gotten from our GitHub as well.\n",
    "# path = kagglehub.dataset_download(\"yamaerenay/spotify-dataset-1921-2020-160k-tracks\")\n",
    "\n",
    "print(\"Path to dataset files:\", path)"
   ]
  },
  {
   "cell_type": "markdown",
   "id": "0d9086b1",
   "metadata": {},
   "source": [
    "### Storing the dataset"
   ]
  },
  {
   "cell_type": "code",
   "execution_count": 70,
   "id": "afdeba73",
   "metadata": {},
   "outputs": [
    {
     "data": {
      "text/html": [
       "<div>\n",
       "<style scoped>\n",
       "    .dataframe tbody tr th:only-of-type {\n",
       "        vertical-align: middle;\n",
       "    }\n",
       "\n",
       "    .dataframe tbody tr th {\n",
       "        vertical-align: top;\n",
       "    }\n",
       "\n",
       "    .dataframe thead th {\n",
       "        text-align: right;\n",
       "    }\n",
       "</style>\n",
       "<table border=\"1\" class=\"dataframe\">\n",
       "  <thead>\n",
       "    <tr style=\"text-align: right;\">\n",
       "      <th></th>\n",
       "      <th>valence</th>\n",
       "      <th>year</th>\n",
       "      <th>acousticness</th>\n",
       "      <th>artists</th>\n",
       "      <th>danceability</th>\n",
       "      <th>duration_ms</th>\n",
       "      <th>energy</th>\n",
       "      <th>explicit</th>\n",
       "      <th>id</th>\n",
       "      <th>instrumentalness</th>\n",
       "      <th>key</th>\n",
       "      <th>liveness</th>\n",
       "      <th>loudness</th>\n",
       "      <th>mode</th>\n",
       "      <th>name</th>\n",
       "      <th>popularity</th>\n",
       "      <th>release_date</th>\n",
       "      <th>speechiness</th>\n",
       "      <th>tempo</th>\n",
       "    </tr>\n",
       "  </thead>\n",
       "  <tbody>\n",
       "    <tr>\n",
       "      <th>0</th>\n",
       "      <td>0.0594</td>\n",
       "      <td>1921.0</td>\n",
       "      <td>NaN</td>\n",
       "      <td>['Sergei Rachmaninoff', 'James Levine', 'Berli...</td>\n",
       "      <td>0.279</td>\n",
       "      <td>831667.0</td>\n",
       "      <td>0.211</td>\n",
       "      <td>0.0</td>\n",
       "      <td>4BJqT0PrAfrxzMOxytFOIz</td>\n",
       "      <td>0.878000</td>\n",
       "      <td>10</td>\n",
       "      <td>0.665</td>\n",
       "      <td>-20.096</td>\n",
       "      <td>1.0</td>\n",
       "      <td>Piano Concerto No. 3 in D Minor, Op. 30: III. ...</td>\n",
       "      <td>4</td>\n",
       "      <td>1921</td>\n",
       "      <td>0.0366</td>\n",
       "      <td>80.954</td>\n",
       "    </tr>\n",
       "    <tr>\n",
       "      <th>1</th>\n",
       "      <td>0.9630</td>\n",
       "      <td>1921.0</td>\n",
       "      <td>0.732</td>\n",
       "      <td>['Dennis Day']</td>\n",
       "      <td>0.819</td>\n",
       "      <td>180533.0</td>\n",
       "      <td>0.341</td>\n",
       "      <td>0.0</td>\n",
       "      <td>7xPhfUan2yNtyFG0cUWkt8</td>\n",
       "      <td>0.000000</td>\n",
       "      <td>7</td>\n",
       "      <td>0.160</td>\n",
       "      <td>-12.441</td>\n",
       "      <td>1.0</td>\n",
       "      <td>Clancy Lowered the Boom</td>\n",
       "      <td>5</td>\n",
       "      <td>1921</td>\n",
       "      <td>0.4150</td>\n",
       "      <td>60.936</td>\n",
       "    </tr>\n",
       "    <tr>\n",
       "      <th>2</th>\n",
       "      <td>0.0394</td>\n",
       "      <td>1921.0</td>\n",
       "      <td>0.961</td>\n",
       "      <td>['KHP Kridhamardawa Karaton Ngayogyakarta Hadi...</td>\n",
       "      <td>0.328</td>\n",
       "      <td>500062.0</td>\n",
       "      <td>0.166</td>\n",
       "      <td>0.0</td>\n",
       "      <td>1o6I8BglA6ylDMrIELygv1</td>\n",
       "      <td>0.913000</td>\n",
       "      <td>3</td>\n",
       "      <td>0.101</td>\n",
       "      <td>-14.850</td>\n",
       "      <td>1.0</td>\n",
       "      <td>Gati Bali</td>\n",
       "      <td>5</td>\n",
       "      <td>1921</td>\n",
       "      <td>0.0339</td>\n",
       "      <td>110.339</td>\n",
       "    </tr>\n",
       "    <tr>\n",
       "      <th>3</th>\n",
       "      <td>0.1650</td>\n",
       "      <td>1921.0</td>\n",
       "      <td>0.967</td>\n",
       "      <td>['Frank Parker']</td>\n",
       "      <td>0.275</td>\n",
       "      <td>210000.0</td>\n",
       "      <td>0.309</td>\n",
       "      <td>0.0</td>\n",
       "      <td>3ftBPsC5vPBKxYSee08FDH</td>\n",
       "      <td>0.000028</td>\n",
       "      <td>5</td>\n",
       "      <td>0.381</td>\n",
       "      <td>-9.316</td>\n",
       "      <td>1.0</td>\n",
       "      <td>Danny Boy</td>\n",
       "      <td>3</td>\n",
       "      <td>1921</td>\n",
       "      <td>0.0354</td>\n",
       "      <td>100.109</td>\n",
       "    </tr>\n",
       "    <tr>\n",
       "      <th>4</th>\n",
       "      <td>0.2530</td>\n",
       "      <td>1921.0</td>\n",
       "      <td>0.957</td>\n",
       "      <td>['Phil Regan']</td>\n",
       "      <td>0.418</td>\n",
       "      <td>166693.0</td>\n",
       "      <td>0.193</td>\n",
       "      <td>0.0</td>\n",
       "      <td>4d6HGyGT8e121BsdKmw9v6</td>\n",
       "      <td>0.000002</td>\n",
       "      <td>3</td>\n",
       "      <td>0.229</td>\n",
       "      <td>-10.096</td>\n",
       "      <td>1.0</td>\n",
       "      <td>When Irish Eyes Are Smiling</td>\n",
       "      <td>2</td>\n",
       "      <td>1921</td>\n",
       "      <td>0.0380</td>\n",
       "      <td>101.665</td>\n",
       "    </tr>\n",
       "  </tbody>\n",
       "</table>\n",
       "</div>"
      ],
      "text/plain": [
       "   valence    year  acousticness  \\\n",
       "0   0.0594  1921.0           NaN   \n",
       "1   0.9630  1921.0         0.732   \n",
       "2   0.0394  1921.0         0.961   \n",
       "3   0.1650  1921.0         0.967   \n",
       "4   0.2530  1921.0         0.957   \n",
       "\n",
       "                                             artists  danceability  \\\n",
       "0  ['Sergei Rachmaninoff', 'James Levine', 'Berli...         0.279   \n",
       "1                                     ['Dennis Day']         0.819   \n",
       "2  ['KHP Kridhamardawa Karaton Ngayogyakarta Hadi...         0.328   \n",
       "3                                   ['Frank Parker']         0.275   \n",
       "4                                     ['Phil Regan']         0.418   \n",
       "\n",
       "   duration_ms  energy  explicit                      id  instrumentalness  \\\n",
       "0     831667.0   0.211       0.0  4BJqT0PrAfrxzMOxytFOIz          0.878000   \n",
       "1     180533.0   0.341       0.0  7xPhfUan2yNtyFG0cUWkt8          0.000000   \n",
       "2     500062.0   0.166       0.0  1o6I8BglA6ylDMrIELygv1          0.913000   \n",
       "3     210000.0   0.309       0.0  3ftBPsC5vPBKxYSee08FDH          0.000028   \n",
       "4     166693.0   0.193       0.0  4d6HGyGT8e121BsdKmw9v6          0.000002   \n",
       "\n",
       "   key  liveness  loudness  mode  \\\n",
       "0   10     0.665   -20.096   1.0   \n",
       "1    7     0.160   -12.441   1.0   \n",
       "2    3     0.101   -14.850   1.0   \n",
       "3    5     0.381    -9.316   1.0   \n",
       "4    3     0.229   -10.096   1.0   \n",
       "\n",
       "                                                name  popularity release_date  \\\n",
       "0  Piano Concerto No. 3 in D Minor, Op. 30: III. ...           4         1921   \n",
       "1                            Clancy Lowered the Boom           5         1921   \n",
       "2                                          Gati Bali           5         1921   \n",
       "3                                          Danny Boy           3         1921   \n",
       "4                        When Irish Eyes Are Smiling           2         1921   \n",
       "\n",
       "   speechiness    tempo  \n",
       "0       0.0366   80.954  \n",
       "1       0.4150   60.936  \n",
       "2       0.0339  110.339  \n",
       "3       0.0354  100.109  \n",
       "4       0.0380  101.665  "
      ]
     },
     "execution_count": 70,
     "metadata": {},
     "output_type": "execute_result"
    }
   ],
   "source": [
    "# Read the dataset and show five first records to see that it is loaded correctly and get initial overview of the data\n",
    "#df = pd.read_csv(\"/Users/Lukas/.cache/kagglehub/datasets/yamaerenay/spotify-dataset-1921-2020-160k-tracks/versions/1/data.csv\")\n",
    "url = \"https://raw.githubusercontent.com/LukasRonberg/BusinessIntelligence/refs/heads/main/MP1/Datasets/spotifydata.csv\"\n",
    "\n",
    "df = pd.read_csv(url)\n",
    "\n",
    "df.head()"
   ]
  },
  {
   "cell_type": "markdown",
   "id": "04d94ed1",
   "metadata": {},
   "source": [
    "### Exploring the dataset"
   ]
  },
  {
   "cell_type": "code",
   "execution_count": 71,
   "id": "f2ad8771",
   "metadata": {},
   "outputs": [
    {
     "data": {
      "text/plain": [
       "RangeIndex(start=0, stop=170653, step=1)"
      ]
     },
     "execution_count": 71,
     "metadata": {},
     "output_type": "execute_result"
    }
   ],
   "source": [
    "# Shows the total amount of rows in the dataset\n",
    "df.index"
   ]
  },
  {
   "cell_type": "code",
   "execution_count": 72,
   "id": "5a5c8e5c",
   "metadata": {},
   "outputs": [
    {
     "data": {
      "text/plain": [
       "Index(['valence', 'year', 'acousticness', 'artists', 'danceability',\n",
       "       'duration_ms', 'energy', 'explicit', 'id', 'instrumentalness', 'key',\n",
       "       'liveness', 'loudness', 'mode', 'name', 'popularity', 'release_date',\n",
       "       'speechiness', 'tempo'],\n",
       "      dtype='object')"
      ]
     },
     "execution_count": 72,
     "metadata": {},
     "output_type": "execute_result"
    }
   ],
   "source": [
    "# Use columns to see the datasets columns\n",
    "df.columns"
   ]
  },
  {
   "cell_type": "code",
   "execution_count": 73,
   "id": "39cb38dc",
   "metadata": {},
   "outputs": [
    {
     "data": {
      "text/plain": [
       "valence             float64\n",
       "year                float64\n",
       "acousticness        float64\n",
       "artists              object\n",
       "danceability        float64\n",
       "duration_ms         float64\n",
       "energy              float64\n",
       "explicit            float64\n",
       "id                   object\n",
       "instrumentalness    float64\n",
       "key                   int64\n",
       "liveness            float64\n",
       "loudness            float64\n",
       "mode                float64\n",
       "name                 object\n",
       "popularity            int64\n",
       "release_date         object\n",
       "speechiness         float64\n",
       "tempo               float64\n",
       "dtype: object"
      ]
     },
     "execution_count": 73,
     "metadata": {},
     "output_type": "execute_result"
    }
   ],
   "source": [
    "# Check the types of the columns\n",
    "\n",
    "df.dtypes"
   ]
  },
  {
   "cell_type": "code",
   "execution_count": 74,
   "id": "56cc62a4",
   "metadata": {},
   "outputs": [
    {
     "data": {
      "text/html": [
       "<div>\n",
       "<style scoped>\n",
       "    .dataframe tbody tr th:only-of-type {\n",
       "        vertical-align: middle;\n",
       "    }\n",
       "\n",
       "    .dataframe tbody tr th {\n",
       "        vertical-align: top;\n",
       "    }\n",
       "\n",
       "    .dataframe thead th {\n",
       "        text-align: right;\n",
       "    }\n",
       "</style>\n",
       "<table border=\"1\" class=\"dataframe\">\n",
       "  <thead>\n",
       "    <tr style=\"text-align: right;\">\n",
       "      <th></th>\n",
       "      <th>valence</th>\n",
       "      <th>year</th>\n",
       "      <th>acousticness</th>\n",
       "      <th>artists</th>\n",
       "      <th>danceability</th>\n",
       "      <th>duration_ms</th>\n",
       "      <th>energy</th>\n",
       "      <th>explicit</th>\n",
       "      <th>instrumentalness</th>\n",
       "      <th>key</th>\n",
       "      <th>liveness</th>\n",
       "      <th>loudness</th>\n",
       "      <th>mode</th>\n",
       "      <th>name</th>\n",
       "      <th>popularity</th>\n",
       "      <th>release_date</th>\n",
       "      <th>speechiness</th>\n",
       "      <th>tempo</th>\n",
       "    </tr>\n",
       "    <tr>\n",
       "      <th>id</th>\n",
       "      <th></th>\n",
       "      <th></th>\n",
       "      <th></th>\n",
       "      <th></th>\n",
       "      <th></th>\n",
       "      <th></th>\n",
       "      <th></th>\n",
       "      <th></th>\n",
       "      <th></th>\n",
       "      <th></th>\n",
       "      <th></th>\n",
       "      <th></th>\n",
       "      <th></th>\n",
       "      <th></th>\n",
       "      <th></th>\n",
       "      <th></th>\n",
       "      <th></th>\n",
       "      <th></th>\n",
       "    </tr>\n",
       "  </thead>\n",
       "  <tbody>\n",
       "    <tr>\n",
       "      <th>4BJqT0PrAfrxzMOxytFOIz</th>\n",
       "      <td>0.0594</td>\n",
       "      <td>1921.0</td>\n",
       "      <td>NaN</td>\n",
       "      <td>['Sergei Rachmaninoff', 'James Levine', 'Berli...</td>\n",
       "      <td>0.279</td>\n",
       "      <td>831667.0</td>\n",
       "      <td>0.211</td>\n",
       "      <td>0.0</td>\n",
       "      <td>0.878000</td>\n",
       "      <td>10</td>\n",
       "      <td>0.665</td>\n",
       "      <td>-20.096</td>\n",
       "      <td>1.0</td>\n",
       "      <td>Piano Concerto No. 3 in D Minor, Op. 30: III. ...</td>\n",
       "      <td>4</td>\n",
       "      <td>1921</td>\n",
       "      <td>0.0366</td>\n",
       "      <td>80.954</td>\n",
       "    </tr>\n",
       "    <tr>\n",
       "      <th>7xPhfUan2yNtyFG0cUWkt8</th>\n",
       "      <td>0.9630</td>\n",
       "      <td>1921.0</td>\n",
       "      <td>0.732</td>\n",
       "      <td>['Dennis Day']</td>\n",
       "      <td>0.819</td>\n",
       "      <td>180533.0</td>\n",
       "      <td>0.341</td>\n",
       "      <td>0.0</td>\n",
       "      <td>0.000000</td>\n",
       "      <td>7</td>\n",
       "      <td>0.160</td>\n",
       "      <td>-12.441</td>\n",
       "      <td>1.0</td>\n",
       "      <td>Clancy Lowered the Boom</td>\n",
       "      <td>5</td>\n",
       "      <td>1921</td>\n",
       "      <td>0.4150</td>\n",
       "      <td>60.936</td>\n",
       "    </tr>\n",
       "    <tr>\n",
       "      <th>1o6I8BglA6ylDMrIELygv1</th>\n",
       "      <td>0.0394</td>\n",
       "      <td>1921.0</td>\n",
       "      <td>0.961</td>\n",
       "      <td>['KHP Kridhamardawa Karaton Ngayogyakarta Hadi...</td>\n",
       "      <td>0.328</td>\n",
       "      <td>500062.0</td>\n",
       "      <td>0.166</td>\n",
       "      <td>0.0</td>\n",
       "      <td>0.913000</td>\n",
       "      <td>3</td>\n",
       "      <td>0.101</td>\n",
       "      <td>-14.850</td>\n",
       "      <td>1.0</td>\n",
       "      <td>Gati Bali</td>\n",
       "      <td>5</td>\n",
       "      <td>1921</td>\n",
       "      <td>0.0339</td>\n",
       "      <td>110.339</td>\n",
       "    </tr>\n",
       "    <tr>\n",
       "      <th>3ftBPsC5vPBKxYSee08FDH</th>\n",
       "      <td>0.1650</td>\n",
       "      <td>1921.0</td>\n",
       "      <td>0.967</td>\n",
       "      <td>['Frank Parker']</td>\n",
       "      <td>0.275</td>\n",
       "      <td>210000.0</td>\n",
       "      <td>0.309</td>\n",
       "      <td>0.0</td>\n",
       "      <td>0.000028</td>\n",
       "      <td>5</td>\n",
       "      <td>0.381</td>\n",
       "      <td>-9.316</td>\n",
       "      <td>1.0</td>\n",
       "      <td>Danny Boy</td>\n",
       "      <td>3</td>\n",
       "      <td>1921</td>\n",
       "      <td>0.0354</td>\n",
       "      <td>100.109</td>\n",
       "    </tr>\n",
       "    <tr>\n",
       "      <th>4d6HGyGT8e121BsdKmw9v6</th>\n",
       "      <td>0.2530</td>\n",
       "      <td>1921.0</td>\n",
       "      <td>0.957</td>\n",
       "      <td>['Phil Regan']</td>\n",
       "      <td>0.418</td>\n",
       "      <td>166693.0</td>\n",
       "      <td>0.193</td>\n",
       "      <td>0.0</td>\n",
       "      <td>0.000002</td>\n",
       "      <td>3</td>\n",
       "      <td>0.229</td>\n",
       "      <td>-10.096</td>\n",
       "      <td>1.0</td>\n",
       "      <td>When Irish Eyes Are Smiling</td>\n",
       "      <td>2</td>\n",
       "      <td>1921</td>\n",
       "      <td>0.0380</td>\n",
       "      <td>101.665</td>\n",
       "    </tr>\n",
       "  </tbody>\n",
       "</table>\n",
       "</div>"
      ],
      "text/plain": [
       "                        valence    year  acousticness  \\\n",
       "id                                                      \n",
       "4BJqT0PrAfrxzMOxytFOIz   0.0594  1921.0           NaN   \n",
       "7xPhfUan2yNtyFG0cUWkt8   0.9630  1921.0         0.732   \n",
       "1o6I8BglA6ylDMrIELygv1   0.0394  1921.0         0.961   \n",
       "3ftBPsC5vPBKxYSee08FDH   0.1650  1921.0         0.967   \n",
       "4d6HGyGT8e121BsdKmw9v6   0.2530  1921.0         0.957   \n",
       "\n",
       "                                                                  artists  \\\n",
       "id                                                                          \n",
       "4BJqT0PrAfrxzMOxytFOIz  ['Sergei Rachmaninoff', 'James Levine', 'Berli...   \n",
       "7xPhfUan2yNtyFG0cUWkt8                                     ['Dennis Day']   \n",
       "1o6I8BglA6ylDMrIELygv1  ['KHP Kridhamardawa Karaton Ngayogyakarta Hadi...   \n",
       "3ftBPsC5vPBKxYSee08FDH                                   ['Frank Parker']   \n",
       "4d6HGyGT8e121BsdKmw9v6                                     ['Phil Regan']   \n",
       "\n",
       "                        danceability  duration_ms  energy  explicit  \\\n",
       "id                                                                    \n",
       "4BJqT0PrAfrxzMOxytFOIz         0.279     831667.0   0.211       0.0   \n",
       "7xPhfUan2yNtyFG0cUWkt8         0.819     180533.0   0.341       0.0   \n",
       "1o6I8BglA6ylDMrIELygv1         0.328     500062.0   0.166       0.0   \n",
       "3ftBPsC5vPBKxYSee08FDH         0.275     210000.0   0.309       0.0   \n",
       "4d6HGyGT8e121BsdKmw9v6         0.418     166693.0   0.193       0.0   \n",
       "\n",
       "                        instrumentalness  key  liveness  loudness  mode  \\\n",
       "id                                                                        \n",
       "4BJqT0PrAfrxzMOxytFOIz          0.878000   10     0.665   -20.096   1.0   \n",
       "7xPhfUan2yNtyFG0cUWkt8          0.000000    7     0.160   -12.441   1.0   \n",
       "1o6I8BglA6ylDMrIELygv1          0.913000    3     0.101   -14.850   1.0   \n",
       "3ftBPsC5vPBKxYSee08FDH          0.000028    5     0.381    -9.316   1.0   \n",
       "4d6HGyGT8e121BsdKmw9v6          0.000002    3     0.229   -10.096   1.0   \n",
       "\n",
       "                                                                     name  \\\n",
       "id                                                                          \n",
       "4BJqT0PrAfrxzMOxytFOIz  Piano Concerto No. 3 in D Minor, Op. 30: III. ...   \n",
       "7xPhfUan2yNtyFG0cUWkt8                            Clancy Lowered the Boom   \n",
       "1o6I8BglA6ylDMrIELygv1                                          Gati Bali   \n",
       "3ftBPsC5vPBKxYSee08FDH                                          Danny Boy   \n",
       "4d6HGyGT8e121BsdKmw9v6                        When Irish Eyes Are Smiling   \n",
       "\n",
       "                        popularity release_date  speechiness    tempo  \n",
       "id                                                                     \n",
       "4BJqT0PrAfrxzMOxytFOIz           4         1921       0.0366   80.954  \n",
       "7xPhfUan2yNtyFG0cUWkt8           5         1921       0.4150   60.936  \n",
       "1o6I8BglA6ylDMrIELygv1           5         1921       0.0339  110.339  \n",
       "3ftBPsC5vPBKxYSee08FDH           3         1921       0.0354  100.109  \n",
       "4d6HGyGT8e121BsdKmw9v6           2         1921       0.0380  101.665  "
      ]
     },
     "execution_count": 74,
     "metadata": {},
     "output_type": "execute_result"
    }
   ],
   "source": [
    "# Remove default pandas integer id and set the tracks unique id as primary index\n",
    "\n",
    "df.set_index('id', inplace= True)\n",
    "df.head()\n",
    "\n",
    "# Optional reset of the index if needed\n",
    "#df.reset_index(inplace=True)\n",
    "#df.head()"
   ]
  },
  {
   "cell_type": "markdown",
   "id": "8651c095",
   "metadata": {},
   "source": [
    "### Data Cleaning - 1\n",
    "#### Removing all data that is incomplete"
   ]
  },
  {
   "cell_type": "code",
   "execution_count": 75,
   "id": "c824d9ad",
   "metadata": {},
   "outputs": [
    {
     "data": {
      "text/plain": [
       "valence             0\n",
       "year                1\n",
       "acousticness        2\n",
       "artists             0\n",
       "danceability        1\n",
       "duration_ms         3\n",
       "energy              1\n",
       "explicit            1\n",
       "instrumentalness    2\n",
       "key                 0\n",
       "liveness            0\n",
       "loudness            0\n",
       "mode                1\n",
       "name                0\n",
       "popularity          0\n",
       "release_date        1\n",
       "speechiness         1\n",
       "tempo               2\n",
       "dtype: int64"
      ]
     },
     "execution_count": 75,
     "metadata": {},
     "output_type": "execute_result"
    }
   ],
   "source": [
    "# To check for any values missing, we check if they are na and then get the sum of the values that are na:\n",
    "df.isna().sum()"
   ]
  },
  {
   "cell_type": "code",
   "execution_count": null,
   "id": "69715275",
   "metadata": {},
   "outputs": [],
   "source": [
    "\n",
    "# If the data is incomplete and we simply wish to remove the entire row of data, we can run this command:\n",
    "df = df.dropna()"
   ]
  },
  {
   "cell_type": "code",
   "execution_count": null,
   "id": "23b79c37",
   "metadata": {},
   "outputs": [],
   "source": [
    "# Then we check for missing values again, there should be none now\n",
    "df.isna().sum()"
   ]
  },
  {
   "cell_type": "markdown",
   "id": "19d7cae9",
   "metadata": {},
   "source": [
    "### Data Cleaning - 2\n",
    "#### Replacing missing values"
   ]
  },
  {
   "cell_type": "markdown",
   "id": "c46d69f5",
   "metadata": {},
   "source": [
    "First I want to check if the data is skewed and has a lot of outliers. One way to do this is use a boxplot"
   ]
  },
  {
   "cell_type": "code",
   "execution_count": 96,
   "id": "4d814fb7",
   "metadata": {},
   "outputs": [
    {
     "data": {
      "image/png": "[encoded data removed]",
      "text/plain": [
       "<Figure size 640x480 with 1 Axes>"
      ]
     },
     "metadata": {},
     "output_type": "display_data"
    }
   ],
   "source": [
    "sbn.boxplot(x=df['duration_ms'] / 1000)\n",
    "plt.xlabel(\"Duration (seconds)\")\n",
    "plt.show()\n"
   ]
  },
  {
   "cell_type": "markdown",
   "id": "cc9db418",
   "metadata": {},
   "source": [
    "The boxplot has a lot of outliers. The boxplot indicates that the majority of the tracks are within 2-5 minutes long, but it has a lot of outliers of songs that are much longer. In this case, using the median is the best.\n",
    "\n",
    " Using the median involves calculating the middle value of a column’s available data (which is less sensitive to outliers) and replacing any missing entries with that value."
   ]
  },
  {
   "cell_type": "code",
   "execution_count": 77,
   "id": "5869814b",
   "metadata": {},
   "outputs": [
    {
     "name": "stdout",
     "output_type": "stream",
     "text": [
      "207467.0\n"
     ]
    }
   ],
   "source": [
    "median_duration_ms = df.duration_ms.median()\n",
    "\n",
    "print(median_duration_ms)"
   ]
  },
  {
   "cell_type": "code",
   "execution_count": 78,
   "id": "7207c218",
   "metadata": {},
   "outputs": [],
   "source": [
    "# Fill the missing values with the median\n",
    "df['duration_ms'] = df['duration_ms'].fillna(median_duration_ms)"
   ]
  },
  {
   "cell_type": "code",
   "execution_count": 79,
   "id": "dd0d10b7",
   "metadata": {},
   "outputs": [
    {
     "data": {
      "text/plain": [
       "0"
      ]
     },
     "execution_count": 79,
     "metadata": {},
     "output_type": "execute_result"
    }
   ],
   "source": [
    "#Check for null values again, after filling them with the median\n",
    "df['duration_ms'].isna().sum()"
   ]
  },
  {
   "cell_type": "markdown",
   "id": "99a3741e",
   "metadata": {},
   "source": [
    "Using the mean involves calculating the average value of a column’s available data and replacing any missing entries with that average. If the data has few outliers, this is the best method to use. In our case, median was the best, but this is how we would impute with the mean data"
   ]
  },
  {
   "cell_type": "code",
   "execution_count": 46,
   "id": "8651b720",
   "metadata": {},
   "outputs": [
    {
     "name": "stdout",
     "output_type": "stream",
     "text": [
      "230949.29266920598\n"
     ]
    }
   ],
   "source": [
    "# Store duration_ms column's mean in a variable\n",
    "mean_duration_ms = df.duration_ms.mean()\n",
    "\n",
    "print(mean_duration_ms)"
   ]
  },
  {
   "cell_type": "code",
   "execution_count": null,
   "id": "391ca680",
   "metadata": {},
   "outputs": [],
   "source": [
    "# Fill the duration_ms with the mean\n",
    "df['duration_ms'] = df['duration_ms'].fillna(mean_duration_ms)"
   ]
  },
  {
   "cell_type": "code",
   "execution_count": 80,
   "id": "917075fb",
   "metadata": {},
   "outputs": [
    {
     "data": {
      "text/plain": [
       "0"
      ]
     },
     "execution_count": 80,
     "metadata": {},
     "output_type": "execute_result"
    }
   ],
   "source": [
    "#Check for null values again, after filling them with the median\n",
    "df['duration_ms'].isna().sum()"
   ]
  },
  {
   "cell_type": "markdown",
   "id": "3bdbc605",
   "metadata": {},
   "source": [
    "### Data Cleaning - 3\n",
    "#### Removing extreme outliers"
   ]
  },
  {
   "cell_type": "markdown",
   "id": "eee2db7d",
   "metadata": {},
   "source": [
    "As we saw in the boxplot for the duration in milliseconds, there were some pretty big outliers. To remove them, I will define Q1 (25th percentile) and Q3 (75th percentile) and get the IQR. IQR is the difference between Q3 and Q1, giving the range where the middle 50% of the data is"
   ]
  },
  {
   "cell_type": "code",
   "execution_count": 81,
   "id": "9d40c5b5",
   "metadata": {},
   "outputs": [],
   "source": [
    "Q1 = df[\"duration_ms\"].quantile(0.25)\n",
    "Q3 = df[\"duration_ms\"].quantile(0.75)\n",
    "IQR = Q3 - Q1"
   ]
  },
  {
   "cell_type": "markdown",
   "id": "7e85e632",
   "metadata": {},
   "source": [
    "Then we define our upper and lower fence. Anything below the lower fence or above the upper fence, is considered an outlier. I have set the upper fence to be a bit lower, to remove more of the extreme outliers."
   ]
  },
  {
   "cell_type": "code",
   "execution_count": 93,
   "id": "018bbf64",
   "metadata": {},
   "outputs": [
    {
     "name": "stdout",
     "output_type": "stream",
     "text": [
      "Lower Fence: 30967.5\n",
      "Upper Fence: 401259.5\n"
     ]
    }
   ],
   "source": [
    "Lower_Fence = Q1 - 1.5 * IQR\n",
    "Upper_Fence = Q3 + 1.5 * IQR\n",
    "\n",
    "print(\"Lower Fence:\", Lower_Fence)\n",
    "print(\"Upper Fence:\", Upper_Fence)"
   ]
  },
  {
   "cell_type": "markdown",
   "id": "3f2e642a",
   "metadata": {},
   "source": [
    "Then we filter out the outliers"
   ]
  },
  {
   "cell_type": "code",
   "execution_count": 94,
   "id": "199d0d9c",
   "metadata": {},
   "outputs": [],
   "source": [
    "df_filtered = df[(df[\"duration_ms\"] >= Lower_Fence) & (df[\"duration_ms\"] <= Upper_Fence)]"
   ]
  },
  {
   "cell_type": "markdown",
   "id": "e8de9bcd",
   "metadata": {},
   "source": [
    "And show the boxplot again, to check and see the outliers being removed"
   ]
  },
  {
   "cell_type": "code",
   "execution_count": 95,
   "id": "ba1cf9d0",
   "metadata": {},
   "outputs": [
    {
     "data": {
      "image/png": "[encoded data removed]",
      "text/plain": [
       "<Figure size 640x480 with 1 Axes>"
      ]
     },
     "metadata": {},
     "output_type": "display_data"
    }
   ],
   "source": [
    "sbn.boxplot(x=df_filtered['duration_ms'] / 1000)\n",
    "plt.xlabel(\"Duration (seconds)\")\n",
    "plt.show()\n"
   ]
  }
 ],
 "metadata": {
  "kernelspec": {
   "display_name": "base",
   "language": "python",
   "name": "python3"
  },
  "language_info": {
   "codemirror_mode": {
    "name": "ipython",
    "version": 3
   },
   "file_extension": ".py",
   "mimetype": "text/x-python",
   "name": "python",
   "nbconvert_exporter": "python",
   "pygments_lexer": "ipython3",
   "version": "3.12.7"
  }
 },
 "nbformat": 4,
 "nbformat_minor": 5
}
